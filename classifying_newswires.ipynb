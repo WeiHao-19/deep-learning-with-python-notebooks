{
  "nbformat": 4,
  "nbformat_minor": 0,
  "metadata": {
    "colab": {
      "name": "classifying newswires.ipynb",
      "provenance": [],
      "authorship_tag": "ABX9TyMZ0gTnBAEXmIHw1GVF2kgS",
      "include_colab_link": true
    },
    "kernelspec": {
      "name": "python3",
      "display_name": "Python 3"
    },
    "language_info": {
      "name": "python"
    }
  },
  "cells": [
    {
      "cell_type": "markdown",
      "metadata": {
        "id": "view-in-github",
        "colab_type": "text"
      },
      "source": [
        "<a href=\"https://colab.research.google.com/github/WeiHao-19/deep-learning-with-python-notebooks/blob/master/classifying_newswires.ipynb\" target=\"_parent\"><img src=\"https://colab.research.google.com/assets/colab-badge.svg\" alt=\"Open In Colab\"/></a>"
      ]
    },
    {
      "cell_type": "code",
      "metadata": {
        "id": "uv4QGirLwYHm",
        "colab": {
          "base_uri": "https://localhost:8080/",
          "height": 35
        },
        "outputId": "574644db-cd96-4a84-9192-d15ebb8244bd"
      },
      "source": [
        "import keras\n",
        "keras.__version__"
      ],
      "execution_count": 1,
      "outputs": [
        {
          "output_type": "execute_result",
          "data": {
            "application/vnd.google.colaboratory.intrinsic+json": {
              "type": "string"
            },
            "text/plain": [
              "'2.4.3'"
            ]
          },
          "metadata": {
            "tags": []
          },
          "execution_count": 1
        }
      ]
    },
    {
      "cell_type": "markdown",
      "metadata": {
        "id": "EXKqEHCj381G"
      },
      "source": [
        "**路透社数据集**它包括46个不同的主题：某些主题的样本更多，但训练集中每个主题都有至少10 个样本。"
      ]
    },
    {
      "cell_type": "code",
      "metadata": {
        "colab": {
          "base_uri": "https://localhost:8080/"
        },
        "id": "34iDOX_K4Pf0",
        "outputId": "d569f058-dc35-4576-f4a2-050755ac3533"
      },
      "source": [
        "from keras.datasets import reuters\n",
        "\n",
        "(train_data, train_labels), (test_data, test_labels) = reuters.load_data(num_words=10000)"
      ],
      "execution_count": 2,
      "outputs": [
        {
          "output_type": "stream",
          "text": [
            "Downloading data from https://storage.googleapis.com/tensorflow/tf-keras-datasets/reuters.npz\n",
            "2113536/2110848 [==============================] - 0s 0us/step\n"
          ],
          "name": "stdout"
        },
        {
          "output_type": "stream",
          "text": [
            "/usr/local/lib/python3.7/dist-packages/tensorflow/python/keras/datasets/reuters.py:148: VisibleDeprecationWarning: Creating an ndarray from ragged nested sequences (which is a list-or-tuple of lists-or-tuples-or ndarrays with different lengths or shapes) is deprecated. If you meant to do this, you must specify 'dtype=object' when creating the ndarray\n",
            "  x_train, y_train = np.array(xs[:idx]), np.array(labels[:idx])\n",
            "/usr/local/lib/python3.7/dist-packages/tensorflow/python/keras/datasets/reuters.py:149: VisibleDeprecationWarning: Creating an ndarray from ragged nested sequences (which is a list-or-tuple of lists-or-tuples-or ndarrays with different lengths or shapes) is deprecated. If you meant to do this, you must specify 'dtype=object' when creating the ndarray\n",
            "  x_test, y_test = np.array(xs[idx:]), np.array(labels[idx:])\n"
          ],
          "name": "stderr"
        }
      ]
    },
    {
      "cell_type": "markdown",
      "metadata": {
        "id": "ZkKJ5LGV4sr1"
      },
      "source": [
        "与IMDB数据集一样，参数 num_words=10000 将数据限定为前 10000 个最常出现的单词。\n",
        "我们有 8982 个训练样本和 2246 个测试样本。"
      ]
    },
    {
      "cell_type": "code",
      "metadata": {
        "colab": {
          "base_uri": "https://localhost:8080/"
        },
        "id": "H7NQF8AH4nj_",
        "outputId": "8c4ab821-0364-4441-ea83-1f158e34830e"
      },
      "source": [
        "len(train_data)\n"
      ],
      "execution_count": 4,
      "outputs": [
        {
          "output_type": "stream",
          "text": [
            "8982\n"
          ],
          "name": "stdout"
        }
      ]
    },
    {
      "cell_type": "code",
      "metadata": {
        "colab": {
          "base_uri": "https://localhost:8080/"
        },
        "id": "taGGc8-E5I5b",
        "outputId": "1f7d7dd1-9db9-4b1a-99e5-1e11bcc8ce5a"
      },
      "source": [
        "len(test_data)"
      ],
      "execution_count": 5,
      "outputs": [
        {
          "output_type": "execute_result",
          "data": {
            "text/plain": [
              "2246"
            ]
          },
          "metadata": {
            "tags": []
          },
          "execution_count": 5
        }
      ]
    },
    {
      "cell_type": "code",
      "metadata": {
        "colab": {
          "base_uri": "https://localhost:8080/"
        },
        "id": "pHcIlJqn5SFo",
        "outputId": "59832b8e-df6f-4ad3-f033-dfa561f710a4"
      },
      "source": [
        "train_data[22]"
      ],
      "execution_count": 7,
      "outputs": [
        {
          "output_type": "execute_result",
          "data": {
            "text/plain": [
              "[1,\n",
              " 2,\n",
              " 71,\n",
              " 8,\n",
              " 16,\n",
              " 385,\n",
              " 6,\n",
              " 42,\n",
              " 904,\n",
              " 103,\n",
              " 727,\n",
              " 27,\n",
              " 682,\n",
              " 7879,\n",
              " 451,\n",
              " 18,\n",
              " 79,\n",
              " 5,\n",
              " 49,\n",
              " 175,\n",
              " 80,\n",
              " 9,\n",
              " 1379,\n",
              " 6,\n",
              " 406,\n",
              " 42,\n",
              " 549,\n",
              " 451,\n",
              " 18,\n",
              " 79,\n",
              " 2,\n",
              " 8,\n",
              " 4,\n",
              " 587,\n",
              " 848,\n",
              " 4,\n",
              " 1651,\n",
              " 310,\n",
              " 22,\n",
              " 134,\n",
              " 72,\n",
              " 20,\n",
              " 6,\n",
              " 196,\n",
              " 44,\n",
              " 20,\n",
              " 4,\n",
              " 39,\n",
              " 1154,\n",
              " 6,\n",
              " 4,\n",
              " 49,\n",
              " 135,\n",
              " 32,\n",
              " 63,\n",
              " 11,\n",
              " 15,\n",
              " 4,\n",
              " 49,\n",
              " 8,\n",
              " 4,\n",
              " 1379,\n",
              " 55,\n",
              " 2,\n",
              " 117,\n",
              " 4,\n",
              " 225,\n",
              " 109,\n",
              " 206,\n",
              " 28,\n",
              " 258,\n",
              " 132,\n",
              " 15,\n",
              " 90,\n",
              " 67,\n",
              " 5,\n",
              " 175,\n",
              " 80,\n",
              " 519,\n",
              " 6,\n",
              " 2,\n",
              " 17,\n",
              " 12]"
            ]
          },
          "metadata": {
            "tags": []
          },
          "execution_count": 7
        }
      ]
    },
    {
      "cell_type": "markdown",
      "metadata": {
        "id": "Iwm1XJmA5ZzG"
      },
      "source": [
        "拉片train_data中sequence中的第23个"
      ]
    },
    {
      "cell_type": "code",
      "metadata": {
        "id": "6ZBopRC75nZy"
      },
      "source": [
        "# word_index 是一个将单词映射为整数索引的字典\n",
        "word_index = reuters.get_word_index()\n",
        "# 通过reverse，键值颠倒，把整数索引映射为单词\n",
        "reverse_word_index = dict([(value, key) for (key, value) in word_index.items()])\n",
        "# Note我们的索引indics减去了‘3’\n",
        "# 因为 0, 1  2 是为 填充\"padding\", 序列开始\"start of sequence\", 和未知词\"unknown\"分别保留的索引.\n",
        "decoded_newswire = ' '.join([reverse_word_index.get(i - 3, '?') for i in train_data[0]])"
      ],
      "execution_count": 10,
      "outputs": []
    },
    {
      "cell_type": "code",
      "metadata": {
        "colab": {
          "base_uri": "https://localhost:8080/",
          "height": 71
        },
        "id": "eYd1kD847m07",
        "outputId": "9462d12f-55a3-4111-9cdd-261215284e0a"
      },
      "source": [
        "# 将其中一条newswire解码处理看看，可以看出‘？？？’说明全部的newswires已经成功解码\n",
        "decoded_newswire"
      ],
      "execution_count": 11,
      "outputs": [
        {
          "output_type": "execute_result",
          "data": {
            "application/vnd.google.colaboratory.intrinsic+json": {
              "type": "string"
            },
            "text/plain": [
              "'? ? ? said as a result of its december acquisition of space co it expects earnings per share in 1987 of 1 15 to 1 30 dlrs per share up from 70 cts in 1986 the company said pretax net should rise to nine to 10 mln dlrs from six mln dlrs in 1986 and rental operation revenues to 19 to 22 mln dlrs from 12 5 mln dlrs it said cash flow per share this year should be 2 50 to three dlrs reuter 3'"
            ]
          },
          "metadata": {
            "tags": []
          },
          "execution_count": 11
        }
      ]
    },
    {
      "cell_type": "code",
      "metadata": {
        "colab": {
          "base_uri": "https://localhost:8080/"
        },
        "id": "5G7QGbLf8e_4",
        "outputId": "c4bfdf30-6a76-4515-9a38-830fc3a7549d"
      },
      "source": [
        "# 注意labels永远是一组标量\n",
        "train_labels[22]"
      ],
      "execution_count": 14,
      "outputs": [
        {
          "output_type": "execute_result",
          "data": {
            "text/plain": [
              "4"
            ]
          },
          "metadata": {
            "tags": []
          },
          "execution_count": 14
        }
      ]
    },
    {
      "cell_type": "code",
      "metadata": {
        "id": "l4Eqqum-8FpM"
      },
      "source": [
        "# 准备数据\n",
        "# 此处就是编码数据，使其向量化\n",
        "import numpy as np\n",
        "\n",
        "# 定义（创建）一个矩阵，这个矩阵以sequences为长，以10000维度为宽\n",
        "def vectorize_sequences(sequences, dimension=10000):\n",
        "    results = np.zeros((len(sequences), dimension))\n",
        "# 进入for循环，对于enumerate列举出的i条sequences，将results[i]的指定索引设为1\n",
        "    for i, sequence in enumerate(sequences):\n",
        "        results[i, sequence] = 1.\n",
        "    return results\n",
        "\n",
        "# 我们的训练数据vectorized\n",
        "x_train = vectorize_sequences(train_data)\n",
        "# 我们的测试数据vectorized\n",
        "x_test = vectorize_sequences(test_data)"
      ],
      "execution_count": 15,
      "outputs": []
    },
    {
      "cell_type": "code",
      "metadata": {
        "id": "Ae7mnFtf-goN"
      },
      "source": [
        "# 将标签向量化有两种方法：\n",
        "# 1.将标签列表转换为整数张量，\n",
        "# 2.使用 one-hot 编码。\n",
        "# one-hot 编码是分类数据广泛使用的一种格式，也叫分类编码（categorical encoding）。在这个例子中，标签的 one-hot 编码就是将每个标签表示为*全零向量*，\n",
        "# 只有标签索引对应的元素为 1。其代码实现如下：\n",
        "# 从keras的np函数集合中导入\n",
        "from keras.utils.np_utils import to_categorical\n",
        "\n",
        "one_hot_train_labels = to_categorical(train_labels)\n",
        "one_hot_test_labels = to_categorical(test_labels)"
      ],
      "execution_count": 16,
      "outputs": []
    },
    {
      "cell_type": "code",
      "metadata": {
        "id": "JeDx2p-g_rXD"
      },
      "source": [
        "# 这一步构建网络\n",
        "# 考虑到这个主题分类问题是对简短的文本片段进行分类，但这个问题有一个新的约束条件：输出类别的数量从 2 个（二分类）变为 46 个（多分类）。\n",
        "# 输出空间的维度要大得多。\n",
        "# 故而不能简单的使用 Dense 层的堆叠，（因为每层只能访问上一层输出的信息）。\n",
        "# 如果某一层丢失了与分类问题相关的一些信息，那么这些信息无法被后面的层找回，也就是说，每一层都可能成为信息瓶颈。（猜测隐含层数量要求极高）\n",
        "# 因此，此例中，我们不再简单使用 16 维的中间层，对这个例子来说 16 维空间可能太小了，无法学会区分 46 个不同的类别。这种维度较小的层可能成为信息瓶颈，永久地丢失相关信息。\n",
        "# 出于这个原因，下面将使用维度更大的层，包含 64 个单元。（这种解决思路无论在算力解放与否的情况下，大规模使用都只能算是一种为保守地维持鲁棒性而几何级压榨算力）\n",
        "from keras import models\n",
        "from keras import layers\n",
        "\n",
        "model = models.Sequential()\n",
        "model.add(layers.Dense(64, activation='relu', input_shape=(10000,)))\n",
        "model.add(layers.Dense(64, activation='relu'))\n",
        "model.add(layers.Dense(46, activation='softmax'))"
      ],
      "execution_count": 17,
      "outputs": []
    },
    {
      "cell_type": "markdown",
      "metadata": {
        "id": "WhfzbYVaBhct"
      },
      "source": [
        "### 关于这个架构还应该注意另外两点。\n",
        "- 网络的最后一层是大小为 46 的 Dense 层。这意味着，对于每个输入样本，网络都会输\n",
        "出一个 46 维向量。这个向量的每个元素（即每个维度）代表不同的输出类别。\n",
        "- 最后一层使用了 softmax 激活。这种用法是指网络将输出在 46 个不同输出类别上的概率分布——对于每一个输入样本，网络都会输出一个 46 维向量（对接上文一点），其中 output[i] 是样本属于第 i 个类别的概率。46 个概率的总和为 1。对于这个例子，最好的损失函数是 categorical_crossentropy（分类交叉熵）。它用于衡量两个概率分布之间距离，这里两个概率分布分别是网络输出的概率分布和标签的真实分布。通过将这两个分布的距离最小化，训练网络可使输出结果尽可能接近真实标签。"
      ]
    },
    {
      "cell_type": "code",
      "metadata": {
        "id": "kQg1V8iVBeEO"
      },
      "source": [
        "# 编译模型\n",
        "model.compile(optimizer='rmsprop',\n",
        "              loss='categorical_crossentropy',\n",
        "              metrics=['accuracy'])"
      ],
      "execution_count": 18,
      "outputs": []
    },
    {
      "cell_type": "code",
      "metadata": {
        "id": "ld2mEWPdCsAE"
      },
      "source": [
        "# 这一步再在训练集中切出1000个来作为验证集\n",
        "x_val = x_train[:1000]\n",
        "partial_x_train = x_train[1000:]\n",
        "\n",
        "y_val = one_hot_train_labels[:1000]\n",
        "partial_y_train = one_hot_train_labels[1000:]"
      ],
      "execution_count": 20,
      "outputs": []
    },
    {
      "cell_type": "code",
      "metadata": {
        "colab": {
          "base_uri": "https://localhost:8080/"
        },
        "id": "JmVuRq-fC9eS",
        "outputId": "ad6546f0-1c81-4eca-8f40-0ab374750139"
      },
      "source": [
        "# 开始training，共计20个epochs\n",
        "history = model.fit(partial_x_train,\n",
        "                    partial_y_train,\n",
        "                    epochs=20,\n",
        "                    batch_size=512,\n",
        "                    validation_data=(x_val, y_val))"
      ],
      "execution_count": 21,
      "outputs": [
        {
          "output_type": "stream",
          "text": [
            "Epoch 1/20\n",
            "16/16 [==============================] - 2s 64ms/step - loss: 3.0915 - accuracy: 0.4398 - val_loss: 1.7155 - val_accuracy: 0.6480\n",
            "Epoch 2/20\n",
            "16/16 [==============================] - 1s 50ms/step - loss: 1.4862 - accuracy: 0.6891 - val_loss: 1.3087 - val_accuracy: 0.7060\n",
            "Epoch 3/20\n",
            "16/16 [==============================] - 1s 48ms/step - loss: 1.1014 - accuracy: 0.7608 - val_loss: 1.1460 - val_accuracy: 0.7430\n",
            "Epoch 4/20\n",
            "16/16 [==============================] - 1s 48ms/step - loss: 0.8774 - accuracy: 0.8111 - val_loss: 1.0480 - val_accuracy: 0.7740\n",
            "Epoch 5/20\n",
            "16/16 [==============================] - 1s 46ms/step - loss: 0.6970 - accuracy: 0.8538 - val_loss: 0.9723 - val_accuracy: 0.8000\n",
            "Epoch 6/20\n",
            "16/16 [==============================] - 1s 47ms/step - loss: 0.5593 - accuracy: 0.8825 - val_loss: 0.9850 - val_accuracy: 0.7800\n",
            "Epoch 7/20\n",
            "16/16 [==============================] - 1s 48ms/step - loss: 0.4733 - accuracy: 0.9015 - val_loss: 0.9278 - val_accuracy: 0.8110\n",
            "Epoch 8/20\n",
            "16/16 [==============================] - 1s 47ms/step - loss: 0.3759 - accuracy: 0.9216 - val_loss: 0.9045 - val_accuracy: 0.8120\n",
            "Epoch 9/20\n",
            "16/16 [==============================] - 1s 46ms/step - loss: 0.3060 - accuracy: 0.9340 - val_loss: 0.8883 - val_accuracy: 0.8240\n",
            "Epoch 10/20\n",
            "16/16 [==============================] - 1s 47ms/step - loss: 0.2507 - accuracy: 0.9449 - val_loss: 0.8950 - val_accuracy: 0.8240\n",
            "Epoch 11/20\n",
            "16/16 [==============================] - 1s 48ms/step - loss: 0.2198 - accuracy: 0.9500 - val_loss: 0.9909 - val_accuracy: 0.8050\n",
            "Epoch 12/20\n",
            "16/16 [==============================] - 1s 47ms/step - loss: 0.1874 - accuracy: 0.9519 - val_loss: 0.9680 - val_accuracy: 0.8040\n",
            "Epoch 13/20\n",
            "16/16 [==============================] - 1s 47ms/step - loss: 0.1495 - accuracy: 0.9610 - val_loss: 0.9382 - val_accuracy: 0.8190\n",
            "Epoch 14/20\n",
            "16/16 [==============================] - 1s 47ms/step - loss: 0.1420 - accuracy: 0.9610 - val_loss: 0.9489 - val_accuracy: 0.8180\n",
            "Epoch 15/20\n",
            "16/16 [==============================] - 1s 48ms/step - loss: 0.1345 - accuracy: 0.9582 - val_loss: 1.0073 - val_accuracy: 0.8130\n",
            "Epoch 16/20\n",
            "16/16 [==============================] - 1s 47ms/step - loss: 0.1250 - accuracy: 0.9614 - val_loss: 1.0236 - val_accuracy: 0.8180\n",
            "Epoch 17/20\n",
            "16/16 [==============================] - 1s 47ms/step - loss: 0.1146 - accuracy: 0.9627 - val_loss: 1.0100 - val_accuracy: 0.8230\n",
            "Epoch 18/20\n",
            "16/16 [==============================] - 1s 47ms/step - loss: 0.1096 - accuracy: 0.9629 - val_loss: 1.0650 - val_accuracy: 0.8060\n",
            "Epoch 19/20\n",
            "16/16 [==============================] - 1s 47ms/step - loss: 0.1080 - accuracy: 0.9582 - val_loss: 1.0507 - val_accuracy: 0.8080\n",
            "Epoch 20/20\n",
            "16/16 [==============================] - 1s 46ms/step - loss: 0.0933 - accuracy: 0.9684 - val_loss: 1.0809 - val_accuracy: 0.8060\n"
          ],
          "name": "stdout"
        }
      ]
    },
    {
      "cell_type": "code",
      "metadata": {
        "colab": {
          "base_uri": "https://localhost:8080/",
          "height": 295
        },
        "id": "LoRiiAFkDT-P",
        "outputId": "7400b766-4f66-495b-8db3-a54199a90214"
      },
      "source": [
        "# 绘制损失曲线loss curves和精度曲线accuracy curves看看效果咯\n",
        "import matplotlib.pyplot as plt\n",
        "\n",
        "loss = history.history['loss']\n",
        "val_loss = history.history['val_loss']\n",
        "\n",
        "epochs = range(1, len(loss) + 1)\n",
        "\n",
        "plt.plot(epochs, loss, 'bo', label='Training loss')\n",
        "plt.plot(epochs, val_loss, 'b', label='Validation loss')\n",
        "plt.title('Training and validation loss')\n",
        "plt.xlabel('Epochs')\n",
        "plt.ylabel('Loss')\n",
        "plt.legend()\n",
        "\n",
        "plt.show()"
      ],
      "execution_count": 22,
      "outputs": [
        {
          "output_type": "display_data",
          "data": {
            "image/png": "[encoded data removed]",
            "text/plain": [
              "<Figure size 432x288 with 1 Axes>"
            ]
          },
          "metadata": {
            "tags": [],
            "needs_background": "light"
          }
        }
      ]
    },
    {
      "cell_type": "markdown",
      "metadata": {
        "id": "rhpSRXc5Drus"
      },
      "source": [
        "这一步就能看出 20个epochs 可谓是处心积虑而恰到好处，既能得到较好的预期泛化，又能减轻算力负担"
      ]
    },
    {
      "cell_type": "code",
      "metadata": {
        "colab": {
          "base_uri": "https://localhost:8080/",
          "height": 295
        },
        "id": "xyLOPXRnEf-n",
        "outputId": "19b91524-9405-48e5-9b5f-f664018aea4a"
      },
      "source": [
        "# 再来看看训练精度和验证精度\n",
        "plt.clf()   # 清除上一步的训练损失和验证损失 figure\n",
        "\n",
        "acc = history.history['accuracy']\n",
        "val_acc = history.history['val_accuracy']\n",
        "\n",
        "plt.plot(epochs, acc, 'bo', label='Training accuracy')\n",
        "plt.plot(epochs, val_acc, 'b', label='Validation accuracy')\n",
        "plt.title('Training and validation accuracy')\n",
        "plt.xlabel('Epochs')\n",
        "plt.ylabel('Loss')\n",
        "plt.legend()\n",
        "\n",
        "plt.show()"
      ],
      "execution_count": 24,
      "outputs": [
        {
          "output_type": "display_data",
          "data": {
            "image/png": "[encoded data removed]",
            "text/plain": [
              "<Figure size 432x288 with 1 Axes>"
            ]
          },
          "metadata": {
            "tags": [],
            "needs_background": "light"
          }
        }
      ]
    },
    {
      "cell_type": "code",
      "metadata": {
        "colab": {
          "base_uri": "https://localhost:8080/"
        },
        "id": "kTUet-NIJDhO",
        "outputId": "e6b1482d-d717-4d2c-9bd9-c9a8b337de77"
      },
      "source": [
        "# 网络在epoch 8、9 轮后开始过拟合。我们从头开始训练一个新网络，共 8 个轮次，然后在测试集上评估模型。\n",
        "model = models.Sequential()\n",
        "model.add(layers.Dense(64, activation='relu', input_shape=(10000,)))\n",
        "model.add(layers.Dense(64, activation='relu'))\n",
        "model.add(layers.Dense(46, activation='softmax'))\n",
        "\n",
        "model.compile(optimizer='rmsprop',\n",
        "              loss='categorical_crossentropy',\n",
        "              metrics=['accuracy'])\n",
        "model.fit(partial_x_train,\n",
        "          partial_y_train,\n",
        "          epochs=8,\n",
        "          batch_size=512,\n",
        "          validation_data=(x_val, y_val))\n",
        "results = model.evaluate(x_test, one_hot_test_labels)"
      ],
      "execution_count": 25,
      "outputs": [
        {
          "output_type": "stream",
          "text": [
            "Epoch 1/8\n",
            "16/16 [==============================] - 1s 57ms/step - loss: 3.2580 - accuracy: 0.3682 - val_loss: 1.8544 - val_accuracy: 0.6430\n",
            "Epoch 2/8\n",
            "16/16 [==============================] - 1s 48ms/step - loss: 1.6550 - accuracy: 0.6848 - val_loss: 1.3245 - val_accuracy: 0.7060\n",
            "Epoch 3/8\n",
            "16/16 [==============================] - 1s 48ms/step - loss: 1.1383 - accuracy: 0.7669 - val_loss: 1.1272 - val_accuracy: 0.7560\n",
            "Epoch 4/8\n",
            "16/16 [==============================] - 1s 48ms/step - loss: 0.8592 - accuracy: 0.8212 - val_loss: 1.0448 - val_accuracy: 0.7730\n",
            "Epoch 5/8\n",
            "16/16 [==============================] - 1s 47ms/step - loss: 0.6758 - accuracy: 0.8640 - val_loss: 0.9823 - val_accuracy: 0.7960\n",
            "Epoch 6/8\n",
            "16/16 [==============================] - 1s 46ms/step - loss: 0.5461 - accuracy: 0.8901 - val_loss: 0.9354 - val_accuracy: 0.8010\n",
            "Epoch 7/8\n",
            "16/16 [==============================] - 1s 49ms/step - loss: 0.4257 - accuracy: 0.9107 - val_loss: 0.9000 - val_accuracy: 0.8190\n",
            "Epoch 8/8\n",
            "16/16 [==============================] - 1s 46ms/step - loss: 0.3517 - accuracy: 0.9313 - val_loss: 0.8837 - val_accuracy: 0.8160\n",
            "71/71 [==============================] - 0s 3ms/step - loss: 0.9694 - accuracy: 0.7845\n"
          ],
          "name": "stdout"
        }
      ]
    },
    {
      "cell_type": "code",
      "metadata": {
        "colab": {
          "base_uri": "https://localhost:8080/"
        },
        "id": "zA5f_WNgKAW0",
        "outputId": "810e146d-02c6-4cee-9b54-520317da6259"
      },
      "source": [
        "# 看一下最终结果\n",
        "results"
      ],
      "execution_count": 26,
      "outputs": [
        {
          "output_type": "execute_result",
          "data": {
            "text/plain": [
              "[0.9694028496742249, 0.7845057845115662]"
            ]
          },
          "metadata": {
            "tags": []
          },
          "execution_count": 26
        }
      ]
    },
    {
      "cell_type": "code",
      "metadata": {
        "colab": {
          "base_uri": "https://localhost:8080/"
        },
        "id": "V5WioSsAKY2i",
        "outputId": "44a10e67-e3da-4954-821c-817fc85f1d20"
      },
      "source": [
        "# 看一下完全随机的分类精度，比19%稍微高一点\n",
        "import copy\n",
        "\n",
        "test_labels_copy = copy.copy(test_labels)\n",
        "np.random.shuffle(test_labels_copy)\n",
        "float(np.sum(np.array(test_labels) == np.array(test_labels_copy))) / len(test_labels)"
      ],
      "execution_count": 27,
      "outputs": [
        {
          "output_type": "execute_result",
          "data": {
            "text/plain": [
              "0.19412288512911843"
            ]
          },
          "metadata": {
            "tags": []
          },
          "execution_count": 27
        }
      ]
    },
    {
      "cell_type": "code",
      "metadata": {
        "colab": {
          "base_uri": "https://localhost:8080/"
        },
        "id": "E5SEiEthKv5H",
        "outputId": "f29a5a3f-9b58-4913-b267-3f1bd8e77e86"
      },
      "source": [
        "# 这种方法可以得到约 80% 的精度。对于平衡的二分类问题，完全随机的分类器能够得到50%的精度。\n",
        "# 但在这个例子中，完全随机的精度约为19%，我估计训练9轮可能精度也只会在19%上下，所以就不再演示9个epochs的结果了。\n",
        "# 下面看一下在新数据上生成预测结果\n",
        "predictions = model.predict(x_test)\n",
        "predictions[0].shape"
      ],
      "execution_count": 29,
      "outputs": [
        {
          "output_type": "execute_result",
          "data": {
            "text/plain": [
              "(46,)"
            ]
          },
          "metadata": {
            "tags": []
          },
          "execution_count": 29
        }
      ]
    },
    {
      "cell_type": "code",
      "metadata": {
        "colab": {
          "base_uri": "https://localhost:8080/"
        },
        "id": "4E6yClmVLeWF",
        "outputId": "ae0446c9-245a-4505-d368-338ed041b1fc"
      },
      "source": [
        "# predictions 中的每个元素都是长度为 46 的向量，那么这个向量的所有元素总和呢\n",
        "np.sum(predictions[0])"
      ],
      "execution_count": 30,
      "outputs": [
        {
          "output_type": "execute_result",
          "data": {
            "text/plain": [
              "1.0"
            ]
          },
          "metadata": {
            "tags": []
          },
          "execution_count": 30
        }
      ]
    },
    {
      "cell_type": "code",
      "metadata": {
        "colab": {
          "base_uri": "https://localhost:8080/"
        },
        "id": "3fO45D4dLzre",
        "outputId": "583f13f2-f132-4c67-cf90-d583667b13a0"
      },
      "source": [
        "# 最大的元素就是预测类别，即概率最大的类别。\n",
        "np.argmax(predictions[0])"
      ],
      "execution_count": 31,
      "outputs": [
        {
          "output_type": "execute_result",
          "data": {
            "text/plain": [
              "3"
            ]
          },
          "metadata": {
            "tags": []
          },
          "execution_count": 31
        }
      ]
    },
    {
      "cell_type": "code",
      "metadata": {
        "id": "2LOgHB6dMcMf"
      },
      "source": [
        "# 回到处理标签和损失的另一种方法：将标签列表转换为整数张量\n",
        "y_train = np.array(train_labels)\n",
        "y_test = np.array(test_labels)"
      ],
      "execution_count": 32,
      "outputs": []
    },
    {
      "cell_type": "code",
      "metadata": {
        "id": "iC2ugvCEOXbH"
      },
      "source": [
        "model.compile(optimizer='rmsprop', loss='sparse_categorical_crossentropy', metrics=['acc'])"
      ],
      "execution_count": 34,
      "outputs": []
    },
    {
      "cell_type": "markdown",
      "metadata": {
        "id": "I2NJ7Tp4OiEo"
      },
      "source": [
        "对于这种编码方法，唯一需要改变的是损失函数的选择。对于one-hot encoding使用的损失\n",
        "函数 categorical_crossentropy，标签应该遵循分类编码。对于整数标签，你应该使用\n",
        "sparse_categorical_crossentropy。\n",
        "这个新的损失函数在数学上与 categorical_crossentropy 完全相同，二者只是接口不同。"
      ]
    },
    {
      "cell_type": "code",
      "metadata": {
        "colab": {
          "base_uri": "https://localhost:8080/"
        },
        "id": "hmP54ycTObzT",
        "outputId": "42291164-5d0a-4c99-d8be-0d2fd1d09cac"
      },
      "source": [
        "model = models.Sequential()\n",
        "model.add(layers.Dense(64, activation='relu', input_shape=(10000,)))\n",
        "model.add(layers.Dense(4, activation='relu'))\n",
        "model.add(layers.Dense(46, activation='softmax'))\n",
        "\n",
        "model.compile(optimizer='rmsprop',\n",
        "              loss='categorical_crossentropy',\n",
        "              metrics=['accuracy'])\n",
        "model.fit(partial_x_train,\n",
        "          partial_y_train,\n",
        "          epochs=20,\n",
        "          batch_size=128,\n",
        "          validation_data=(x_val, y_val))"
      ],
      "execution_count": 35,
      "outputs": [
        {
          "output_type": "stream",
          "text": [
            "Epoch 1/20\n",
            "63/63 [==============================] - 2s 20ms/step - loss: 3.6051 - accuracy: 0.0563 - val_loss: 2.8308 - val_accuracy: 0.2530\n",
            "Epoch 2/20\n",
            "63/63 [==============================] - 1s 17ms/step - loss: 2.5815 - accuracy: 0.2782 - val_loss: 2.1223 - val_accuracy: 0.2870\n",
            "Epoch 3/20\n",
            "63/63 [==============================] - 1s 17ms/step - loss: 1.8818 - accuracy: 0.3499 - val_loss: 1.6035 - val_accuracy: 0.6700\n",
            "Epoch 4/20\n",
            "63/63 [==============================] - 1s 17ms/step - loss: 1.3748 - accuracy: 0.6944 - val_loss: 1.4336 - val_accuracy: 0.6740\n",
            "Epoch 5/20\n",
            "63/63 [==============================] - 1s 17ms/step - loss: 1.1682 - accuracy: 0.7116 - val_loss: 1.3846 - val_accuracy: 0.6830\n",
            "Epoch 6/20\n",
            "63/63 [==============================] - 1s 17ms/step - loss: 1.0718 - accuracy: 0.7244 - val_loss: 1.3395 - val_accuracy: 0.6970\n",
            "Epoch 7/20\n",
            "63/63 [==============================] - 1s 17ms/step - loss: 0.9494 - accuracy: 0.7637 - val_loss: 1.3289 - val_accuracy: 0.7100\n",
            "Epoch 8/20\n",
            "63/63 [==============================] - 1s 17ms/step - loss: 0.8824 - accuracy: 0.7814 - val_loss: 1.3181 - val_accuracy: 0.7190\n",
            "Epoch 9/20\n",
            "63/63 [==============================] - 1s 17ms/step - loss: 0.7837 - accuracy: 0.8070 - val_loss: 1.3126 - val_accuracy: 0.7160\n",
            "Epoch 10/20\n",
            "63/63 [==============================] - 1s 17ms/step - loss: 0.7081 - accuracy: 0.8277 - val_loss: 1.3622 - val_accuracy: 0.7170\n",
            "Epoch 11/20\n",
            "63/63 [==============================] - 1s 17ms/step - loss: 0.6657 - accuracy: 0.8370 - val_loss: 1.3775 - val_accuracy: 0.7300\n",
            "Epoch 12/20\n",
            "63/63 [==============================] - 1s 17ms/step - loss: 0.6403 - accuracy: 0.8417 - val_loss: 1.4014 - val_accuracy: 0.7260\n",
            "Epoch 13/20\n",
            "63/63 [==============================] - 1s 17ms/step - loss: 0.5895 - accuracy: 0.8490 - val_loss: 1.4697 - val_accuracy: 0.7290\n",
            "Epoch 14/20\n",
            "63/63 [==============================] - 1s 17ms/step - loss: 0.5662 - accuracy: 0.8484 - val_loss: 1.4735 - val_accuracy: 0.7190\n",
            "Epoch 15/20\n",
            "63/63 [==============================] - 1s 17ms/step - loss: 0.5343 - accuracy: 0.8504 - val_loss: 1.5608 - val_accuracy: 0.7270\n",
            "Epoch 16/20\n",
            "63/63 [==============================] - 1s 17ms/step - loss: 0.4956 - accuracy: 0.8583 - val_loss: 1.5941 - val_accuracy: 0.7250\n",
            "Epoch 17/20\n",
            "63/63 [==============================] - 1s 17ms/step - loss: 0.4801 - accuracy: 0.8633 - val_loss: 1.6447 - val_accuracy: 0.7170\n",
            "Epoch 18/20\n",
            "63/63 [==============================] - 1s 17ms/step - loss: 0.4434 - accuracy: 0.8659 - val_loss: 1.7009 - val_accuracy: 0.7210\n",
            "Epoch 19/20\n",
            "63/63 [==============================] - 1s 17ms/step - loss: 0.4464 - accuracy: 0.8764 - val_loss: 1.7065 - val_accuracy: 0.7230\n",
            "Epoch 20/20\n",
            "63/63 [==============================] - 1s 17ms/step - loss: 0.4182 - accuracy: 0.8799 - val_loss: 1.7750 - val_accuracy: 0.7170\n"
          ],
          "name": "stdout"
        },
        {
          "output_type": "execute_result",
          "data": {
            "text/plain": [
              "<tensorflow.python.keras.callbacks.History at 0x7f65ccc2ef10>"
            ]
          },
          "metadata": {
            "tags": []
          },
          "execution_count": 35
        }
      ]
    },
    {
      "cell_type": "markdown",
      "metadata": {
        "id": "wSXGXwUbO_3n"
      },
      "source": [
        "### 中间层维度足够大的重要性\n",
        "前面用过的最终输出是 46 维的，因此中间层的隐藏单元个数不应该比 46 小太多。现在来\n",
        "试试，如果中间层的维度远远小于 46（比如 4 维），造成了信息瓶颈，那么会发生什么？\n",
        "- 结果还是比较直观的71.7%，已经接近72%了，比之前中间层使用46维的（81.6%）少了10%！\n",
        "- 分析一下原因，我认为下降这么多，将大量信息（这些信息足够恢复 46 个类别的分割超平面）压缩到维度很小的中间空间。网络能够将大部分必要信息塞入这个四维表示中，但并不可避免丢掉一些必要的信息，而这两部分信息的总和才是全部必要的信息。"
      ]
    },
    {
      "cell_type": "code",
      "metadata": {
        "colab": {
          "base_uri": "https://localhost:8080/"
        },
        "id": "0xIDfYnYQRcq",
        "outputId": "709f4678-b2b0-4d4b-d9ea-86af69d7d54c"
      },
      "source": [
        "# 继续实验，这次中间层的隐藏单元是‘32’，其他条件不变\n",
        "model = models.Sequential()\n",
        "model.add(layers.Dense(64, activation='relu', input_shape=(10000,)))\n",
        "model.add(layers.Dense(32, activation='relu'))\n",
        "model.add(layers.Dense(46, activation='softmax'))\n",
        "\n",
        "model.compile(optimizer='rmsprop',\n",
        "              loss='categorical_crossentropy',\n",
        "              metrics=['accuracy'])\n",
        "model.fit(partial_x_train,\n",
        "          partial_y_train,\n",
        "          epochs=20,\n",
        "          batch_size=128,\n",
        "          validation_data=(x_val, y_val))"
      ],
      "execution_count": 36,
      "outputs": [
        {
          "output_type": "stream",
          "text": [
            "Epoch 1/20\n",
            "63/63 [==============================] - 2s 20ms/step - loss: 2.4675 - accuracy: 0.5042 - val_loss: 1.2843 - val_accuracy: 0.7060\n",
            "Epoch 2/20\n",
            "63/63 [==============================] - 1s 17ms/step - loss: 0.7142 - accuracy: 0.8520 - val_loss: 0.9198 - val_accuracy: 0.8000\n",
            "Epoch 4/20\n",
            "63/63 [==============================] - 1s 17ms/step - loss: 0.5161 - accuracy: 0.8907 - val_loss: 0.8925 - val_accuracy: 0.8100\n",
            "Epoch 5/20\n",
            "63/63 [==============================] - 1s 17ms/step - loss: 0.3678 - accuracy: 0.9258 - val_loss: 0.8617 - val_accuracy: 0.8230\n",
            "Epoch 6/20\n",
            "63/63 [==============================] - 1s 17ms/step - loss: 0.2829 - accuracy: 0.9380 - val_loss: 0.8828 - val_accuracy: 0.8250\n",
            "Epoch 7/20\n",
            "63/63 [==============================] - 1s 17ms/step - loss: 0.2280 - accuracy: 0.9454 - val_loss: 0.9174 - val_accuracy: 0.8230\n",
            "Epoch 8/20\n",
            "63/63 [==============================] - 1s 17ms/step - loss: 0.1750 - accuracy: 0.9550 - val_loss: 0.9799 - val_accuracy: 0.8110\n",
            "Epoch 9/20\n",
            "63/63 [==============================] - 1s 17ms/step - loss: 0.1610 - accuracy: 0.9582 - val_loss: 1.0172 - val_accuracy: 0.8070\n",
            "Epoch 10/20\n",
            "63/63 [==============================] - 1s 17ms/step - loss: 0.1349 - accuracy: 0.9606 - val_loss: 1.0378 - val_accuracy: 0.8020\n",
            "Epoch 11/20\n",
            "63/63 [==============================] - 1s 17ms/step - loss: 0.1233 - accuracy: 0.9637 - val_loss: 1.0512 - val_accuracy: 0.8160\n",
            "Epoch 12/20\n",
            "63/63 [==============================] - 1s 17ms/step - loss: 0.1217 - accuracy: 0.9610 - val_loss: 1.0749 - val_accuracy: 0.7900\n",
            "Epoch 13/20\n",
            "63/63 [==============================] - 1s 17ms/step - loss: 0.1210 - accuracy: 0.9590 - val_loss: 1.1413 - val_accuracy: 0.7930\n",
            "Epoch 14/20\n",
            "63/63 [==============================] - 1s 18ms/step - loss: 0.1216 - accuracy: 0.9575 - val_loss: 1.1524 - val_accuracy: 0.8030\n",
            "Epoch 15/20\n",
            "63/63 [==============================] - 1s 17ms/step - loss: 0.1159 - accuracy: 0.9562 - val_loss: 1.1660 - val_accuracy: 0.8080\n",
            "Epoch 16/20\n",
            "63/63 [==============================] - 1s 17ms/step - loss: 0.1088 - accuracy: 0.9588 - val_loss: 1.2343 - val_accuracy: 0.8010\n",
            "Epoch 17/20\n",
            "63/63 [==============================] - 1s 17ms/step - loss: 0.1043 - accuracy: 0.9574 - val_loss: 1.1800 - val_accuracy: 0.8030\n",
            "Epoch 18/20\n",
            "63/63 [==============================] - 1s 17ms/step - loss: 0.1012 - accuracy: 0.9635 - val_loss: 1.2411 - val_accuracy: 0.8040\n",
            "Epoch 19/20\n",
            "63/63 [==============================] - 1s 17ms/step - loss: 0.0920 - accuracy: 0.9627 - val_loss: 1.1650 - val_accuracy: 0.7990\n",
            "Epoch 20/20\n",
            "63/63 [==============================] - 1s 17ms/step - loss: 0.0891 - accuracy: 0.9664 - val_loss: 1.2480 - val_accuracy: 0.8020\n"
          ],
          "name": "stdout"
        },
        {
          "output_type": "execute_result",
          "data": {
            "text/plain": [
              "<tensorflow.python.keras.callbacks.History at 0x7f65bee69ad0>"
            ]
          },
          "metadata": {
            "tags": []
          },
          "execution_count": 36
        }
      ]
    },
    {
      "cell_type": "markdown",
      "metadata": {
        "id": "py_gV8a8Q512"
      },
      "source": [
        "分类精度80.2%，对比下，下降还可以接受"
      ]
    },
    {
      "cell_type": "code",
      "metadata": {
        "colab": {
          "base_uri": "https://localhost:8080/"
        },
        "id": "3MH-QCHaRF6Z",
        "outputId": "b78c4653-8a8b-4a55-ec5f-6cbc4464f3e1"
      },
      "source": [
        "# 最后实验一下，这次中间层的隐藏单元是‘128’，其他条件不变\n",
        "model = models.Sequential()\n",
        "model.add(layers.Dense(64, activation='relu', input_shape=(10000,)))\n",
        "model.add(layers.Dense(128, activation='relu'))\n",
        "model.add(layers.Dense(46, activation='softmax'))\n",
        "\n",
        "model.compile(optimizer='rmsprop',\n",
        "              loss='categorical_crossentropy',\n",
        "              metrics=['accuracy'])\n",
        "model.fit(partial_x_train,\n",
        "          partial_y_train,\n",
        "          epochs=20,\n",
        "          batch_size=128,\n",
        "          validation_data=(x_val, y_val))"
      ],
      "execution_count": 37,
      "outputs": [
        {
          "output_type": "stream",
          "text": [
            "Epoch 1/20\n",
            "63/63 [==============================] - 2s 20ms/step - loss: 2.3047 - accuracy: 0.5131 - val_loss: 1.1974 - val_accuracy: 0.7330\n",
            "Epoch 2/20\n",
            "63/63 [==============================] - 1s 18ms/step - loss: 0.9819 - accuracy: 0.7884 - val_loss: 0.9902 - val_accuracy: 0.7780\n",
            "Epoch 3/20\n",
            "63/63 [==============================] - 1s 18ms/step - loss: 0.6152 - accuracy: 0.8642 - val_loss: 0.9142 - val_accuracy: 0.8060\n",
            "Epoch 4/20\n",
            "63/63 [==============================] - 1s 17ms/step - loss: 0.3963 - accuracy: 0.9168 - val_loss: 0.8696 - val_accuracy: 0.8250\n",
            "Epoch 5/20\n",
            "63/63 [==============================] - 1s 18ms/step - loss: 0.2733 - accuracy: 0.9368 - val_loss: 0.9255 - val_accuracy: 0.8170\n",
            "Epoch 6/20\n",
            "63/63 [==============================] - 1s 18ms/step - loss: 0.2052 - accuracy: 0.9497 - val_loss: 0.9317 - val_accuracy: 0.8130\n",
            "Epoch 7/20\n",
            "63/63 [==============================] - 1s 18ms/step - loss: 0.1706 - accuracy: 0.9572 - val_loss: 0.9549 - val_accuracy: 0.8050\n",
            "Epoch 8/20\n",
            "63/63 [==============================] - 1s 18ms/step - loss: 0.1548 - accuracy: 0.9568 - val_loss: 1.0655 - val_accuracy: 0.8030\n",
            "Epoch 9/20\n",
            "63/63 [==============================] - 1s 18ms/step - loss: 0.1411 - accuracy: 0.9563 - val_loss: 1.0660 - val_accuracy: 0.7980\n",
            "Epoch 10/20\n",
            "63/63 [==============================] - 1s 17ms/step - loss: 0.1308 - accuracy: 0.9583 - val_loss: 1.2207 - val_accuracy: 0.7780\n",
            "Epoch 11/20\n",
            "63/63 [==============================] - 1s 18ms/step - loss: 0.1145 - accuracy: 0.9627 - val_loss: 1.0502 - val_accuracy: 0.7980\n",
            "Epoch 12/20\n",
            "63/63 [==============================] - 1s 17ms/step - loss: 0.1063 - accuracy: 0.9643 - val_loss: 1.1024 - val_accuracy: 0.7990\n",
            "Epoch 13/20\n",
            "63/63 [==============================] - 1s 18ms/step - loss: 0.1108 - accuracy: 0.9579 - val_loss: 1.0703 - val_accuracy: 0.8060\n",
            "Epoch 14/20\n",
            "63/63 [==============================] - 1s 17ms/step - loss: 0.0957 - accuracy: 0.9639 - val_loss: 1.2082 - val_accuracy: 0.8000\n",
            "Epoch 15/20\n",
            "63/63 [==============================] - 1s 17ms/step - loss: 0.0917 - accuracy: 0.9676 - val_loss: 1.0897 - val_accuracy: 0.8030\n",
            "Epoch 16/20\n",
            "63/63 [==============================] - 1s 17ms/step - loss: 0.0952 - accuracy: 0.9606 - val_loss: 1.1445 - val_accuracy: 0.8090\n",
            "Epoch 17/20\n",
            "63/63 [==============================] - 1s 17ms/step - loss: 0.0954 - accuracy: 0.9613 - val_loss: 1.1879 - val_accuracy: 0.7990\n",
            "Epoch 18/20\n",
            "63/63 [==============================] - 1s 18ms/step - loss: 0.0865 - accuracy: 0.9623 - val_loss: 1.2214 - val_accuracy: 0.7900\n",
            "Epoch 19/20\n",
            "63/63 [==============================] - 1s 19ms/step - loss: 0.0814 - accuracy: 0.9652 - val_loss: 1.2655 - val_accuracy: 0.7930\n",
            "Epoch 20/20\n",
            "63/63 [==============================] - 1s 19ms/step - loss: 0.0818 - accuracy: 0.9646 - val_loss: 1.2271 - val_accuracy: 0.8030\n"
          ],
          "name": "stdout"
        },
        {
          "output_type": "execute_result",
          "data": {
            "text/plain": [
              "<tensorflow.python.keras.callbacks.History at 0x7f65be4ad8d0>"
            ]
          },
          "metadata": {
            "tags": []
          },
          "execution_count": 37
        }
      ]
    },
    {
      "cell_type": "markdown",
      "metadata": {
        "id": "v1jzjhOfRoXf"
      },
      "source": [
        "中间层的隐藏单元个数达到128之后，分类反而下降到和32层相当，我猜想极可能是因为隐藏层中的神经元（隐藏单元）过多而导致的过拟合(overfitting)。当神经网络具有过多的节点（过多的信息处理能力）时，训练集中包含的有限信息量（相比128层就太少了）不足以训练隐藏层中的所有神经元，因此就会导致过拟合。即使训练数据包含的信息量足够，隐藏层中过多的神经元会增加训练时间，从而难以达到预期的效果。就这样啦！"
      ]
    }
  ]
}